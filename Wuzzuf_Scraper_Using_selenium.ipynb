{
  "cells": [
    {
      "cell_type": "code",
      "execution_count": null,
      "id": "688b053f",
      "metadata": {
        "id": "688b053f"
      },
      "outputs": [],
      "source": [
        "import selenium\n",
        "from selenium import webdriver\n",
        "from selenium.webdriver.common.by import By\n",
        "from time import sleep\n",
        "import traceback\n"
      ]
    },
    {
      "cell_type": "code",
      "execution_count": null,
      "id": "5bc5df6a",
      "metadata": {
        "id": "5bc5df6a",
        "outputId": "ba62450c-f66e-43ee-ce73-8117927bcbcc"
      },
      "outputs": [
        {
          "name": "stderr",
          "output_type": "stream",
          "text": [
            "C:\\Users\\elnaf\\AppData\\Local\\Temp\\ipykernel_14412\\2457634320.py:2: DeprecationWarning: executable_path has been deprecated, please pass in a Service object\n",
            "  driver = webdriver.Chrome(DRIVE_PATH)\n"
          ]
        }
      ],
      "source": [
        "DRIVE_PATH = 'D:\\Projects\\chromedriver_win32\\chromedriver.exe'\n",
        "driver = webdriver.Chrome(DRIVE_PATH)"
      ]
    },
    {
      "cell_type": "code",
      "execution_count": null,
      "id": "a74b943c",
      "metadata": {
        "id": "a74b943c"
      },
      "outputs": [],
      "source": [
        "driver.get('https://wuzzuf.net/jobs/egypt')"
      ]
    },
    {
      "cell_type": "markdown",
      "id": "b7a72bca",
      "metadata": {
        "id": "b7a72bca"
      },
      "source": [
        "# Scraper"
      ]
    },
    {
      "cell_type": "code",
      "execution_count": null,
      "id": "9b22197d",
      "metadata": {
        "id": "9b22197d"
      },
      "outputs": [],
      "source": [
        "#-----------------------------------------------------------------------------------------------------------------#"
      ]
    },
    {
      "cell_type": "code",
      "execution_count": null,
      "id": "a07c62c4",
      "metadata": {
        "id": "a07c62c4"
      },
      "outputs": [],
      "source": [
        "import selenium\n",
        "from selenium import webdriver\n",
        "from selenium.webdriver.common.by import By\n",
        "from time import sleep\n",
        "import traceback"
      ]
    },
    {
      "cell_type": "code",
      "execution_count": null,
      "id": "2b096b2f",
      "metadata": {
        "id": "2b096b2f"
      },
      "outputs": [],
      "source": [
        "DRIVE_PATH = 'D:\\Projects\\chromedriver_win32\\chromedriver.exe'\n",
        "driver = webdriver.Chrome(DRIVE_PATH)"
      ]
    },
    {
      "cell_type": "code",
      "execution_count": null,
      "id": "7dd93ad7",
      "metadata": {
        "id": "7dd93ad7"
      },
      "outputs": [],
      "source": [
        "driver.get('https://wuzzuf.net/jobs/egypt')"
      ]
    },
    {
      "cell_type": "code",
      "execution_count": null,
      "id": "393c7848",
      "metadata": {
        "id": "393c7848"
      },
      "outputs": [],
      "source": [
        "search = driver.find_element(By.CLASS_NAME , 'search-bar-input')"
      ]
    },
    {
      "cell_type": "code",
      "execution_count": null,
      "id": "7071e3fe",
      "metadata": {
        "id": "7071e3fe"
      },
      "outputs": [],
      "source": [
        "search.send_keys('python')"
      ]
    },
    {
      "cell_type": "code",
      "execution_count": null,
      "id": "625a88a5",
      "metadata": {
        "id": "625a88a5",
        "outputId": "af3ec0b6-3867-4581-c6d9-8292e612b061"
      },
      "outputs": [
        {
          "data": {
            "text/plain": [
              "'https://wuzzuf.net/jobs/egypt'"
            ]
          },
          "execution_count": 8,
          "metadata": {},
          "output_type": "execute_result"
        }
      ],
      "source": [
        "driver.current_url"
      ]
    },
    {
      "cell_type": "code",
      "execution_count": null,
      "id": "942ce856",
      "metadata": {
        "id": "942ce856"
      },
      "outputs": [],
      "source": [
        "btn = driver.find_element(By.CLASS_NAME , 'large')"
      ]
    },
    {
      "cell_type": "code",
      "execution_count": null,
      "id": "150762d1",
      "metadata": {
        "id": "150762d1"
      },
      "outputs": [],
      "source": [
        "btn.click()"
      ]
    },
    {
      "cell_type": "code",
      "execution_count": null,
      "id": "c9d9b4ce",
      "metadata": {
        "id": "c9d9b4ce",
        "outputId": "a752eb7f-88ff-4a84-b322-1b622716cffd"
      },
      "outputs": [
        {
          "data": {
            "text/plain": [
              "'https://wuzzuf.net/search/jobs/?q=python&a=hpb'"
            ]
          },
          "execution_count": 11,
          "metadata": {},
          "output_type": "execute_result"
        }
      ],
      "source": [
        "driver.current_url"
      ]
    },
    {
      "cell_type": "code",
      "execution_count": null,
      "id": "a9fcd6d0",
      "metadata": {
        "id": "a9fcd6d0"
      },
      "outputs": [],
      "source": []
    },
    {
      "cell_type": "code",
      "execution_count": null,
      "id": "317989e1",
      "metadata": {
        "scrolled": true,
        "id": "317989e1"
      },
      "outputs": [],
      "source": [
        "title = []\n",
        "location = []\n",
        "company = []\n",
        "skill = []\n",
        "jop_type = []\n",
        "exp = []\n",
        "career = []\n",
        "education = []\n",
        "sal = []\n",
        "category = []\n",
        "desc = []\n",
        "Req = []\n",
        "\n",
        "\n",
        "\n",
        "nextP =  driver.find_element(By.XPATH , '//*[@id=\"app\"]/div/div[3]/div/div/div[3]/ul/li[7]/button')\n",
        "while True :\n",
        "    sleep(1)\n",
        "    print(driver.current_url)\n",
        "    try:\n",
        "        sleep(4)\n",
        "        titles = driver.find_elements(By.CLASS_NAME , 'css-m604qf')\n",
        "        locations= driver.find_elements(By.CLASS_NAME , 'css-5wys0k')\n",
        "        companies = driver.find_elements(By.CLASS_NAME , 'css-17s97q8')\n",
        "        #company.text[:-2]\n",
        "        allSkills = driver.find_elements(By.CLASS_NAME , 'css-y4udm8')\n",
        "        div = driver.find_elements(By.CLASS_NAME , 'css-laomuu')\n",
        "        print('Test')\n",
        "        \n",
        "        \n",
        "        \n",
        "        for i in range(len(titles)):\n",
        "            \n",
        "            \n",
        "            sleep(4)\n",
        "            print('Ali')\n",
        "            div[i].find_elements(By.TAG_NAME , 'a')[0].click()\n",
        "            sleep(4)\n",
        "            print('Ashraf')\n",
        "            driver.switch_to.window(driver.window_handles[1]) #To Activate Jop tab\n",
        "            print('Test2')\n",
        "            sleep(4)\n",
        "            \n",
        "            experience= driver.find_element(By.XPATH , '//*[@id=\"app\"]/div/main/article/section[2]/div[1]/span[2]/span')\n",
        "            career_level = driver.find_element(By.XPATH ,'//*[@id=\"app\"]/div/main/article/section[2]/div[2]/span[2]/span')\n",
        "            education_level = driver.find_element(By.XPATH , '//*[@id=\"app\"]/div/main/article/section[2]/div[3]/span[2]/span')\n",
        "            salary = driver.find_element(By.XPATH , '//*[@id=\"app\"]/div/main/article/section[2]/div[4]/span[2]/span')\n",
        "            job_category = driver.find_element(By.XPATH , '//*[@id=\"app\"]/div/main/article/section[2]/div[5]/ul/li/a/span')\n",
        "            descrption = driver.find_element(By.CLASS_NAME , 'css-1uobp1k')\n",
        "            Requirements =driver.find_element(By.CLASS_NAME , 'css-1t5f0fr')\n",
        "            \n",
        "            sleep(4)\n",
        "            \n",
        "            exp.append(experience.text)\n",
        "            career.append(career_level.text)\n",
        "            education.append(education_level.text)\n",
        "            sal.append(salary.text)\n",
        "            category.append(job_category.text)\n",
        "            desc.append(descrption.text)\n",
        "            Req.append(Requirements.text)\n",
        "            \n",
        "            sleep(4)\n",
        "            driver.close() # To close Job Tab\n",
        "            sleep(4)\n",
        "            driver.switch_to.window(driver.window_handles[0]) #To Activate Main Tab\n",
        "            print('Test3')\n",
        "            \n",
        "            \n",
        "            \n",
        "            title.append(titles[i].text)\n",
        "            location.append(locations[i].text)\n",
        "            company.append(companies[i].text)\n",
        "            jop_type.append(allSkills[i].find_elements(By.TAG_NAME , 'div')[0].text)\n",
        "            skill.append(allSkills[i].find_elements(By.TAG_NAME , 'div')[1].text)\n",
        "            \n",
        "        \n",
        "        sleep(5)\n",
        "        print((20* '-') + str(driver.current_url) +' SCRAPPED ' +(20* '-') )\n",
        "        nextP.click()\n",
        "        print('Done')\n",
        "    except Exception as e :\n",
        "        print(e)\n",
        "        #traceback.print_exc()\n",
        "        break"
      ]
    },
    {
      "cell_type": "code",
      "execution_count": null,
      "id": "b921f92e",
      "metadata": {
        "id": "b921f92e"
      },
      "outputs": [],
      "source": [
        "import pandas as pd\n",
        "columns = [    \n",
        "            'job title' ,   'location' , 'company name' , 'skills' , 'jop type' , 'experience' , \n",
        "            'career level' , 'education level' , 'salary' , 'job  category' , 'descrption' , 'requirements'    \n",
        "            ]\n",
        "data = [title , location , company , skill , jop_type  , exp  ,career  , education , sal , category , desc , Req ]\n",
        "\n",
        "dataFrame = pd.DataFrame(columns= columns)"
      ]
    },
    {
      "cell_type": "code",
      "execution_count": null,
      "id": "bbf88c8a",
      "metadata": {
        "id": "bbf88c8a"
      },
      "outputs": [],
      "source": [
        "for i in range(len(columns)):\n",
        "    dataFrame[columns[i]] = data[i]"
      ]
    },
    {
      "cell_type": "code",
      "execution_count": null,
      "id": "8ee38b1f",
      "metadata": {
        "id": "8ee38b1f",
        "outputId": "94775e5c-9af7-49a3-956d-074b8d0e35d8"
      },
      "outputs": [
        {
          "data": {
            "text/html": [
              "<div>\n",
              "<style scoped>\n",
              "    .dataframe tbody tr th:only-of-type {\n",
              "        vertical-align: middle;\n",
              "    }\n",
              "\n",
              "    .dataframe tbody tr th {\n",
              "        vertical-align: top;\n",
              "    }\n",
              "\n",
              "    .dataframe thead th {\n",
              "        text-align: right;\n",
              "    }\n",
              "</style>\n",
              "<table border=\"1\" class=\"dataframe\">\n",
              "  <thead>\n",
              "    <tr style=\"text-align: right;\">\n",
              "      <th></th>\n",
              "      <th>job title</th>\n",
              "      <th>location</th>\n",
              "      <th>company name</th>\n",
              "      <th>skills</th>\n",
              "      <th>jop type</th>\n",
              "      <th>experience</th>\n",
              "      <th>career level</th>\n",
              "      <th>education level</th>\n",
              "      <th>salary</th>\n",
              "      <th>job  category</th>\n",
              "      <th>descrption</th>\n",
              "      <th>requirements</th>\n",
              "    </tr>\n",
              "  </thead>\n",
              "  <tbody>\n",
              "    <tr>\n",
              "      <th>0</th>\n",
              "      <td>Python Developer</td>\n",
              "      <td>Maadi, Cairo, Egypt</td>\n",
              "      <td>Afaqy -</td>\n",
              "      <td>Experienced · 2 - 4 Yrs of Exp · IT/Software D...</td>\n",
              "      <td>Full Time</td>\n",
              "      <td>2 To 4 Years</td>\n",
              "      <td>Experienced (Non-Manager)</td>\n",
              "      <td>Not Specified</td>\n",
              "      <td>Confidential</td>\n",
              "      <td>IT/Software Development</td>\n",
              "      <td>Design, develop and implement software to auto...</td>\n",
              "      <td>Work experience as a Python Developer\\nTeam sp...</td>\n",
              "    </tr>\n",
              "    <tr>\n",
              "      <th>1</th>\n",
              "      <td>Python Developer</td>\n",
              "      <td>Cairo, Egypt</td>\n",
              "      <td>GetTechForce.com -</td>\n",
              "      <td>Experienced · 3+ Yrs of Exp · IT/Software Deve...</td>\n",
              "      <td>Full Time\\nWork From Home</td>\n",
              "      <td>More Than 3 Years</td>\n",
              "      <td>Experienced (Non-Manager)</td>\n",
              "      <td>Not Specified</td>\n",
              "      <td>Confidential</td>\n",
              "      <td>IT/Software Development</td>\n",
              "      <td>At Get tech force we help companies build thei...</td>\n",
              "      <td>Requirements:\\nPython - building and maintaini...</td>\n",
              "    </tr>\n",
              "    <tr>\n",
              "      <th>2</th>\n",
              "      <td>Python Developer</td>\n",
              "      <td>Cairo, Egypt</td>\n",
              "      <td>Professional Service - Proserv -</td>\n",
              "      <td>Experienced · 3+ Yrs of Exp · IT/Software Deve...</td>\n",
              "      <td>Full Time</td>\n",
              "      <td>More Than 3 Years</td>\n",
              "      <td>Experienced (Non-Manager)</td>\n",
              "      <td>Bachelor'S Degree</td>\n",
              "      <td>Confidential</td>\n",
              "      <td>IT/Software Development</td>\n",
              "      <td>Working on release planning &amp; sprint plan and ...</td>\n",
              "      <td>Bachelor's degree in Computer Science, Compute...</td>\n",
              "    </tr>\n",
              "    <tr>\n",
              "      <th>3</th>\n",
              "      <td>Python Developer</td>\n",
              "      <td>New Cairo, Cairo, Egypt</td>\n",
              "      <td>OdooTec -</td>\n",
              "      <td>Entry Level · 1 - 2 Yrs of Exp · IT/Software D...</td>\n",
              "      <td>Full Time</td>\n",
              "      <td>1 To 2 Years</td>\n",
              "      <td>Entry Level (Junior Level / Fresh Grad)</td>\n",
              "      <td>Bachelor'S Degree</td>\n",
              "      <td>Confidential</td>\n",
              "      <td>IT/Software Development</td>\n",
              "      <td>We are hiring Python developers with knowledge...</td>\n",
              "      <td>1-2 years of experience.\\nThe candidate will d...</td>\n",
              "    </tr>\n",
              "    <tr>\n",
              "      <th>4</th>\n",
              "      <td>Python Developer (FinTech)</td>\n",
              "      <td>Smart Village, Giza, Egypt</td>\n",
              "      <td>Bright Creations -</td>\n",
              "      <td>Experienced · 2+ Yrs of Exp · IT/Software Deve...</td>\n",
              "      <td>Full Time\\nFreelance / Project</td>\n",
              "      <td>More Than 2 Years</td>\n",
              "      <td>Experienced (Non-Manager)</td>\n",
              "      <td>Bachelor'S Degree</td>\n",
              "      <td>Confidential</td>\n",
              "      <td>IT/Software Development</td>\n",
              "      <td>Our Founder\\nDAZU Pay is a new FinTech startup...</td>\n",
              "      <td>Engineering Requirements\\nBachelor’s or Master...</td>\n",
              "    </tr>\n",
              "  </tbody>\n",
              "</table>\n",
              "</div>"
            ],
            "text/plain": [
              "                    job title                    location  \\\n",
              "0            Python Developer         Maadi, Cairo, Egypt   \n",
              "1            Python Developer                Cairo, Egypt   \n",
              "2            Python Developer                Cairo, Egypt   \n",
              "3            Python Developer     New Cairo, Cairo, Egypt   \n",
              "4  Python Developer (FinTech)  Smart Village, Giza, Egypt   \n",
              "\n",
              "                       company name  \\\n",
              "0                           Afaqy -   \n",
              "1                GetTechForce.com -   \n",
              "2  Professional Service - Proserv -   \n",
              "3                         OdooTec -   \n",
              "4                Bright Creations -   \n",
              "\n",
              "                                              skills  \\\n",
              "0  Experienced · 2 - 4 Yrs of Exp · IT/Software D...   \n",
              "1  Experienced · 3+ Yrs of Exp · IT/Software Deve...   \n",
              "2  Experienced · 3+ Yrs of Exp · IT/Software Deve...   \n",
              "3  Entry Level · 1 - 2 Yrs of Exp · IT/Software D...   \n",
              "4  Experienced · 2+ Yrs of Exp · IT/Software Deve...   \n",
              "\n",
              "                         jop type         experience  \\\n",
              "0                       Full Time       2 To 4 Years   \n",
              "1       Full Time\\nWork From Home  More Than 3 Years   \n",
              "2                       Full Time  More Than 3 Years   \n",
              "3                       Full Time       1 To 2 Years   \n",
              "4  Full Time\\nFreelance / Project  More Than 2 Years   \n",
              "\n",
              "                              career level    education level        salary  \\\n",
              "0                Experienced (Non-Manager)      Not Specified  Confidential   \n",
              "1                Experienced (Non-Manager)      Not Specified  Confidential   \n",
              "2                Experienced (Non-Manager)  Bachelor'S Degree  Confidential   \n",
              "3  Entry Level (Junior Level / Fresh Grad)  Bachelor'S Degree  Confidential   \n",
              "4                Experienced (Non-Manager)  Bachelor'S Degree  Confidential   \n",
              "\n",
              "             job  category                                         descrption  \\\n",
              "0  IT/Software Development  Design, develop and implement software to auto...   \n",
              "1  IT/Software Development  At Get tech force we help companies build thei...   \n",
              "2  IT/Software Development  Working on release planning & sprint plan and ...   \n",
              "3  IT/Software Development  We are hiring Python developers with knowledge...   \n",
              "4  IT/Software Development  Our Founder\\nDAZU Pay is a new FinTech startup...   \n",
              "\n",
              "                                        requirements  \n",
              "0  Work experience as a Python Developer\\nTeam sp...  \n",
              "1  Requirements:\\nPython - building and maintaini...  \n",
              "2  Bachelor's degree in Computer Science, Compute...  \n",
              "3  1-2 years of experience.\\nThe candidate will d...  \n",
              "4  Engineering Requirements\\nBachelor’s or Master...  "
            ]
          },
          "execution_count": 51,
          "metadata": {},
          "output_type": "execute_result"
        }
      ],
      "source": [
        "dataFrame.head(5)"
      ]
    },
    {
      "cell_type": "code",
      "execution_count": null,
      "id": "008408b0",
      "metadata": {
        "id": "008408b0"
      },
      "outputs": [],
      "source": [
        "dataFrame.to_csv('jobs.csv' , index=False)"
      ]
    },
    {
      "cell_type": "code",
      "execution_count": null,
      "id": "bc984189",
      "metadata": {
        "id": "bc984189"
      },
      "outputs": [],
      "source": []
    }
  ],
  "metadata": {
    "kernelspec": {
      "display_name": "Python 3 (ipykernel)",
      "language": "python",
      "name": "python3"
    },
    "language_info": {
      "codemirror_mode": {
        "name": "ipython",
        "version": 3
      },
      "file_extension": ".py",
      "mimetype": "text/x-python",
      "name": "python",
      "nbconvert_exporter": "python",
      "pygments_lexer": "ipython3",
      "version": "3.9.13"
    },
    "colab": {
      "provenance": []
    }
  },
  "nbformat": 4,
  "nbformat_minor": 5
}